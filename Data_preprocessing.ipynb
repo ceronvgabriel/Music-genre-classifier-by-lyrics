{
 "cells": [
  {
   "cell_type": "code",
   "execution_count": 1,
   "metadata": {
    "collapsed": false
   },
   "outputs": [],
   "source": [
    "#gaboceron10@gmail.com (2017)\n",
    "\n",
    "import csv\n",
    "import os\n",
    "import random\n",
    "\n",
    "#csv fieldnames\n",
    "fieldnames=['index','song','year','artist','genre','lyrics']\n",
    "#all available genres\n",
    "all_genres=['Pop','Hip-Hop','Not Available','Other','Rock','Metal','Country','Jazz','Electronic','Folk','R&B','Indie']\n",
    "#selected genres to classify\n",
    "genres=['Pop','Hip-Hop','Rock','Metal','Country','Jazz']"
   ]
  },
  {
   "cell_type": "code",
   "execution_count": 2,
   "metadata": {
    "collapsed": false
   },
   "outputs": [],
   "source": [
    "# Selecting data, write in new file only if the song belogns to the selected genres and it's lyrics are not empty\n",
    "\n",
    "with open('lyrics.csv') as read_file, open('lyrics_genres.csv', 'w+') as write_file: \n",
    "    writer = csv.DictWriter(write_file, fieldnames, extrasaction='ignore')\n",
    "    reader = csv.DictReader(read_file)\n",
    "    writer.writeheader()\n",
    "    for row in reader:\n",
    "        if row['genre'] in genres and row['lyrics'] != '': \n",
    "            writer.writerow(row)"
   ]
  },
  {
   "cell_type": "code",
   "execution_count": 3,
   "metadata": {
    "collapsed": false
   },
   "outputs": [],
   "source": [
    "#Splitting data by genres, this is done in order to process smaller files and avoid memory problems\n",
    "\n",
    "for g in genres:\n",
    "    with open('lyrics_genres.csv') as read_file, open('lyrics_gendre_'+g+'.csv', 'w+') as write_file: \n",
    "        writer = csv.DictWriter(write_file, fieldnames, extrasaction='ignore')\n",
    "        reader = csv.DictReader(read_file)\n",
    "        writer.writeheader()\n",
    "        new_index=0\n",
    "        for row in reader:\n",
    "            if row['genre'] == g:\n",
    "                row['index']= new_index\n",
    "                writer.writerow(row)\n",
    "                new_index=new_index+1"
   ]
  },
  {
   "cell_type": "code",
   "execution_count": 4,
   "metadata": {
    "collapsed": false
   },
   "outputs": [
    {
     "name": "stdout",
     "output_type": "stream",
     "text": [
      "\n",
      "Genres and counting:\n",
      "\n",
      "{'Country': 13816, 'Jazz': 7085, 'Metal': 22414, 'Pop': 38143, 'Rock': 102583, 'Hip-Hop': 22449}\n"
     ]
    }
   ],
   "source": [
    "#As the dataset is unbalanced,  we count the number of songs for each genre, then the min value is found to uner-sample\n",
    "\n",
    "with open('lyrics_genres.csv') as csvfile:\n",
    "    reader = csv.DictReader(csvfile)\n",
    "    count=[0]*len(genres)\n",
    "    for row in reader:\n",
    "        for g in range(len(genres)):\n",
    "            if row['genre']==genres[g]:\n",
    "                count[g]=count[g]+1\n",
    "    print '\\nGenres and counting:\\n'\n",
    "    dic_count=dict(zip(genres,count)) #Create dictionary\n",
    "    print dic_count\n",
    "\n",
    "min_count=min(count)"
   ]
  },
  {
   "cell_type": "code",
   "execution_count": 5,
   "metadata": {
    "collapsed": false
   },
   "outputs": [
    {
     "name": "stdout",
     "output_type": "stream",
     "text": [
      "Im writing, for Pop skiping 31058 of 38143 , total rows:  7085\n",
      "Im writing, for Hip-Hop skiping 15364 of 22449 , total rows:  7085\n",
      "Im writing, for Rock skiping 95498 of 102583 , total rows:  7085\n",
      "Im writing, for Metal skiping 15329 of 22414 , total rows:  7085\n",
      "Im writing, for Country skiping 6731 of 13816 , total rows:  7085\n",
      "Im writing, for Jazz skiping 0 of 7085 , total rows:  7085\n"
     ]
    }
   ],
   "source": [
    "#Under-sampling and shuffling each genre file\n",
    "\n",
    "for g in genres:\n",
    "    \n",
    "    skip=random.sample(range(0, dic_count[g]), dic_count[g]-min_count)\n",
    "\n",
    "    with open('lyrics_gendre_'+g+'.csv') as read_file, open('lyr_gen_'+g+'_sh.csv', 'w+') as write_file: \n",
    "        \n",
    "        writer = csv.DictWriter(write_file, fieldnames, extrasaction='ignore')# csv.DictWriter(csvfile, fieldnames, restval='', extrasaction='raise', dialect='excel', *args, **kwds)The fieldnames parameter is a sequence of heys that identify the order in qhich values in the dictionary passed to the writerow method are written to the csvfile. if writerow method contauns a key not found in fieldnames, the optional extrasaction parameter indicates what action to writer.writeheader()\n",
    "        reader = csv.DictReader(read_file)\n",
    "        writer.writeheader()\n",
    "        \n",
    "        all_rows = [row for row in reader] \n",
    "        random.shuffle(all_rows)\n",
    "        \n",
    "        print 'Im writing, for',g,'skiping',len(skip),'of',dic_count[g],', total rows: ',dic_count[g]-len(skip)\n",
    "        for r in all_rows:\n",
    "            if int(r['index']) in skip:\n",
    "                pass\n",
    "            else:\n",
    "                writer.writerow(r)"
   ]
  },
  {
   "cell_type": "code",
   "execution_count": 6,
   "metadata": {
    "collapsed": false
   },
   "outputs": [
    {
     "name": "stdout",
     "output_type": "stream",
     "text": [
      "For Pop\n",
      "For Hip-Hop\n",
      "For Rock\n",
      "For Metal\n",
      "For Country\n",
      "For Jazz\n",
      "end\n"
     ]
    }
   ],
   "source": [
    "# After under-sampling, all the dataset is put together in a single file\n",
    "\n",
    "all_data=[]\n",
    "\n",
    "for g in genres:\n",
    "    print 'For '+g\n",
    "    with open('lyr_gen_'+g+'_sh.csv') as read_file: \n",
    "        reader = csv.DictReader(read_file)\n",
    "        all_rows = [row for row in reader]\n",
    "    all_data.extend(all_rows)\n",
    "random.shuffle(all_data)\n",
    "\n",
    "with open('lyr_gen_all_sh.csv', 'w+') as write_file:\n",
    "    writer = csv.DictWriter(write_file, fieldnames, extrasaction='ignore')# csv.DictWriter(csvfile, fieldnames, restval='', extrasaction='raise', dialect='excel', *args, **kwds)The fieldnames parameter is a sequence of heys that identify the order in qhich values in the dictionary passed to the writerow method are written to the csvfile. if writerow method contauns a key not found in fieldnames, the optional extrasaction parameter indicates what action to writer.writeheader()\n",
    "    writer.writeheader()\n",
    "    for r in all_data:\n",
    "        writer.writerow(r)\n",
    "print 'end'"
   ]
  },
  {
   "cell_type": "code",
   "execution_count": null,
   "metadata": {
    "collapsed": true
   },
   "outputs": [],
   "source": []
  },
  {
   "cell_type": "code",
   "execution_count": null,
   "metadata": {
    "collapsed": true
   },
   "outputs": [],
   "source": []
  }
 ],
 "metadata": {
  "kernelspec": {
   "display_name": "Python 2",
   "language": "python",
   "name": "python2"
  },
  "language_info": {
   "codemirror_mode": {
    "name": "ipython",
    "version": 2
   },
   "file_extension": ".py",
   "mimetype": "text/x-python",
   "name": "python",
   "nbconvert_exporter": "python",
   "pygments_lexer": "ipython2",
   "version": "2.7.11"
  }
 },
 "nbformat": 4,
 "nbformat_minor": 2
}
