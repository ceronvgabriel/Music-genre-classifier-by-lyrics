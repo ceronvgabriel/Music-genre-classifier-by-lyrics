{
 "cells": [
  {
   "cell_type": "code",
   "execution_count": 2,
   "metadata": {
    "collapsed": false
   },
   "outputs": [],
   "source": [
    "#gaboceron10@gmail.com (2017)\n",
    "\n",
    "import csv\n",
    "import os\n",
    "import random\n",
    "import re\n",
    "import numpy as np\n",
    "\n",
    "#csv fieldnames\n",
    "fieldnames=['index','song','year','artist','genre','lyrics']\n",
    "#all available genres\n",
    "all_genres=['Pop','Hip-Hop','Not Available','Other','Rock','Metal','Country','Jazz','Electronic','Folk','R&B','Indie']\n",
    "#selected genres to classify\n",
    "genres=['Pop','Hip-Hop','Rock','Metal','Country','Jazz']"
   ]
  },
  {
   "cell_type": "code",
   "execution_count": 2,
   "metadata": {
    "collapsed": false
   },
   "outputs": [
    {
     "name": "stdout",
     "output_type": "stream",
     "text": [
      "For Pop\n",
      "For Hip-Hop\n",
      "For Rock\n",
      "For Metal\n",
      "For Country\n",
      "For Jazz\n"
     ]
    }
   ],
   "source": [
    "all_data=[]\n",
    "\n",
    "w_list=[]\n",
    "w_count=[]\n",
    "\n",
    "for g in genres:\n",
    "    w_list=[]\n",
    "    w_count=[]\n",
    "    print 'For '+g\n",
    "    with open('lyr_gen_'+g+'_sh.csv') as read_file: \n",
    "        reader = csv.DictReader(read_file)\n",
    "        row_count = sum(1 for row in reader)\n",
    "        read_file.seek(0)\n",
    "        for i in range(row_count):\n",
    "            row=next(reader)\n",
    "            words=re.compile('\\w+').findall(row['lyrics'])\n",
    "            for word in words:\n",
    "                word=word.lower()\n",
    "                if word in w_list:\n",
    "                    plus=w_list.index(word)\n",
    "                    w_count[plus]=w_count[plus]+1\n",
    "                else:\n",
    "                    w_list.append(word)\n",
    "                    w_count.append(1)\n",
    "#\n",
    "    with open('all_words_'+g+'.csv','w+') as csvfile:\n",
    "        writer = csv.writer(csvfile)#El formato del csv tiene un espacio de por medio\n",
    "        writer.writerow(w_list)\n",
    "        writer.writerow(w_count)\n"
   ]
  },
  {
   "cell_type": "code",
   "execution_count": 46,
   "metadata": {
    "collapsed": false
   },
   "outputs": [],
   "source": [
    "#Run from here\n",
    "#\n",
    "#\n",
    "#\n",
    "\n",
    "nw_count=[]\n",
    "nw_list=[]\n",
    "\n",
    "g=genres[5]\n",
    "\n",
    "with open('all_words_'+g+'.csv') as csvfile:\n",
    "    reader = csv.reader(csvfile)\n",
    "    \n",
    "    nw_list=next(reader)\n",
    "    nw_count=map(int,next(reader)) "
   ]
  },
  {
   "cell_type": "code",
   "execution_count": 47,
   "metadata": {
    "collapsed": true
   },
   "outputs": [],
   "source": [
    "#loading the stop words list\n",
    "with open('stop_words.csv') as csvfile:\n",
    "    reader = csv.reader(csvfile)\n",
    "    for row in reader:\n",
    "        stop_words=row #there is just one row, with 119 words"
   ]
  },
  {
   "cell_type": "code",
   "execution_count": 48,
   "metadata": {
    "collapsed": false
   },
   "outputs": [],
   "source": [
    "arr = np.array(nw_count)\n",
    "ind=arr.argsort()[-200:][::-1] # sorting the most used words\n",
    "b3_words=[]\n",
    "b3_count=[]\n",
    "\n",
    "b_words=[]\n",
    "b_count=[]\n",
    "\n",
    "for i in ind:\n",
    "    b3_words.append(nw_list[i])\n",
    "    b3_count.append(nw_count[i])\n",
    "    \n",
    "for j in range(len(b3_words)):\n",
    "    if b3_words[j] in stop_words: # stop words are ignored\n",
    "        pass\n",
    "    else:\n",
    "        b_words.append(b3_words[j])\n",
    "        b_count.append(b3_count[j])\n",
    "\n",
    "b1_words=b_words[:50] #selecting the number of words (features)\n",
    "b1_count=b_count[:50]\n"
   ]
  },
  {
   "cell_type": "code",
   "execution_count": 49,
   "metadata": {
    "collapsed": true
   },
   "outputs": [],
   "source": [
    "with open('all_words.csv') as csvfile:\n",
    "    reader = csv.reader(csvfile)\n",
    "    \n",
    "    all_w_list=next(reader)\n",
    "    all_w_count=map(int,next(reader)) "
   ]
  },
  {
   "cell_type": "code",
   "execution_count": 50,
   "metadata": {
    "collapsed": false
   },
   "outputs": [
    {
     "name": "stdout",
     "output_type": "stream",
     "text": [
      "50 50\n"
     ]
    }
   ],
   "source": [
    "score=[]\n",
    "\n",
    "for i in range(len(b1_words)):\n",
    "    plus=all_w_list.index(b1_words[i])\n",
    "    sc=float(all_w_count[plus])/float(b1_count[i])\n",
    "    score.append(sc)\n",
    "print len(score),len(b1_words)"
   ]
  },
  {
   "cell_type": "code",
   "execution_count": 51,
   "metadata": {
    "collapsed": false
   },
   "outputs": [
    {
     "name": "stdout",
     "output_type": "stream",
     "text": [
      "Jazz\n",
      "love 3.53705896282\n",
      "know 6.56154092072\n",
      "don 7.02497198655\n",
      "oh 5.12700652672\n",
      "baby 4.4521525764\n",
      "now 7.05980143154\n",
      "up 9.74932548442\n",
      "one 6.43187595323\n",
      "come 5.25889008621\n",
      "never 6.28216216216\n",
      "go 6.91008403361\n",
      "see 6.87167762218\n",
      "heart 3.97551843318\n",
      "down 7.29378698225\n",
      "time 7.00858242083\n",
      "way 5.77035881435\n",
      "out 8.6711430356\n",
      "day 4.42974640164\n",
      "make 6.603115727\n",
      "want 7.16660454715\n",
      "night 4.91441082803\n",
      "de 3.49183006536\n",
      "gonna 5.34889434889\n",
      "la 5.29700390795\n",
      "tell 5.93048128342\n",
      "here 6.77118644068\n",
      "cause 9.20403587444\n",
      "away 5.72404494382\n",
      "take 7.47161172161\n",
      "little 4.93101830127\n",
      "man 7.05660377358\n",
      "life 7.84481927711\n",
      "good 5.02184466019\n",
      "back 9.40383669454\n",
      "more 6.37183936539\n",
      "well 4.65077772203\n",
      "feel 6.62651209677\n",
      "yeah 9.26892028254\n",
      "right 7.08519269777\n",
      "ain 8.87091757387\n",
      "through 6.28653444676\n",
      "need 6.82650862069\n",
      "long 4.72525027809\n",
      "world 6.58266360505\n",
      "won 5.40211640212\n",
      "give 6.56583629893\n",
      "over 5.6422912858\n",
      "o 4.15142150803\n",
      "again 5.82960199005\n",
      "home 4.89536340852\n"
     ]
    }
   ],
   "source": [
    "print g\n",
    "for i in range(len(b1_words)):\n",
    "    print b1_words[i],score[i]"
   ]
  },
  {
   "cell_type": "code",
   "execution_count": 52,
   "metadata": {
    "collapsed": true
   },
   "outputs": [],
   "source": [
    "arr = np.array(score)\n",
    "ind=arr.argsort()"
   ]
  },
  {
   "cell_type": "code",
   "execution_count": 53,
   "metadata": {
    "collapsed": false
   },
   "outputs": [],
   "source": [
    "best_words=[]\n",
    "for i in ind:\n",
    "    best_words.append(b1_words[i])"
   ]
  },
  {
   "cell_type": "code",
   "execution_count": 54,
   "metadata": {
    "collapsed": false
   },
   "outputs": [
    {
     "name": "stdout",
     "output_type": "stream",
     "text": [
      "Jazz\n",
      "['de', 'love', 'heart', 'o', 'day', 'baby', 'well', 'long', 'home', 'night']\n"
     ]
    }
   ],
   "source": [
    "print g\n",
    "print best_words[:10]\n"
   ]
  },
  {
   "cell_type": "code",
   "execution_count": null,
   "metadata": {
    "collapsed": true
   },
   "outputs": [],
   "source": []
  }
 ],
 "metadata": {
  "kernelspec": {
   "display_name": "Python 2",
   "language": "python",
   "name": "python2"
  },
  "language_info": {
   "codemirror_mode": {
    "name": "ipython",
    "version": 2
   },
   "file_extension": ".py",
   "mimetype": "text/x-python",
   "name": "python",
   "nbconvert_exporter": "python",
   "pygments_lexer": "ipython2",
   "version": "2.7.11"
  }
 },
 "nbformat": 4,
 "nbformat_minor": 2
}
