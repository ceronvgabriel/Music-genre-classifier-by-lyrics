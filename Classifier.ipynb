{
 "cells": [
  {
   "cell_type": "code",
   "execution_count": 12,
   "metadata": {
    "collapsed": false
   },
   "outputs": [],
   "source": [
    "#gaboceron10@gmail.com (2017)\n",
    "\n",
    "import csv\n",
    "import os\n",
    "import random\n",
    "import re\n",
    "import numpy as np\n",
    "import pandas as pd\n",
    "import time\n",
    "from sklearn import svm\n",
    "import matplotlib.pyplot as plt\n",
    "\n",
    "from sklearn.metrics import accuracy_score\n",
    "from sklearn.metrics import confusion_matrix\n",
    "\n",
    "#csv fieldnames\n",
    "fieldnames=['index','song','year','artist','genre','lyrics']\n",
    "#all available genres\n",
    "all_genres=['Pop','Hip-Hop','Not Available','Other','Rock','Metal','Country','Jazz','Electronic','Folk','R&B','Indie']\n",
    "#selected genres to classify\n",
    "genres=['Pop','Hip-Hop','Rock','Metal','Country','Jazz']"
   ]
  },
  {
   "cell_type": "code",
   "execution_count": 13,
   "metadata": {
    "collapsed": true
   },
   "outputs": [],
   "source": [
    "#this is a load bar, just to show the execution progress of a loop\n",
    "\n",
    "'''\n",
    "Use: \n",
    "\n",
    "bar=Load_bar(total_iterations)\n",
    "...\n",
    "for i in ...\n",
    "    bar.bar(current_iteration)\n",
    "\n",
    "Other useful:\n",
    "\n",
    "import time\n",
    "start_time = time.time()\n",
    "...\n",
    "print(\"--- %s seconds ---\" % (time.time() - start_time))\n",
    "\n",
    "'''\n",
    "class Load_bar:\n",
    "    def __init__(self,total):\n",
    "        self.total=total\n",
    "        self.last_perc=0\n",
    "    def current(self,current):\n",
    "        perc=current*100/self.total\n",
    "        if perc == self.last_perc:\n",
    "            pass\n",
    "        else:\n",
    "            load= str(perc)+'%'\n",
    "            print '{0}\\r'.format(load),\n",
    "            self.last_perc=perc"
   ]
  },
  {
   "cell_type": "code",
   "execution_count": 17,
   "metadata": {
    "collapsed": false
   },
   "outputs": [],
   "source": [
    "with open('best_words.csv') as csvfile:\n",
    "    reader = csv.reader(csvfile)#El formato del csv tiene un espacio de por medio\n",
    "    for row in reader:\n",
    "        b_words=row #there is just one row"
   ]
  },
  {
   "cell_type": "code",
   "execution_count": 18,
   "metadata": {
    "collapsed": false
   },
   "outputs": [
    {
     "name": "stdout",
     "output_type": "stream",
     "text": [
      "57%\r"
     ]
    },
    {
     "ename": "KeyboardInterrupt",
     "evalue": "",
     "output_type": "error",
     "traceback": [
      "\u001b[0;31m---------------------------------------------------------------------------\u001b[0m",
      "\u001b[0;31mKeyboardInterrupt\u001b[0m                         Traceback (most recent call last)",
      "\u001b[0;32m<ipython-input-18-6994de9847a2>\u001b[0m in \u001b[0;36m<module>\u001b[0;34m()\u001b[0m\n\u001b[1;32m     26\u001b[0m             \u001b[1;32mif\u001b[0m \u001b[0mword\u001b[0m \u001b[1;32min\u001b[0m \u001b[0mb_words\u001b[0m\u001b[1;33m:\u001b[0m\u001b[1;33m\u001b[0m\u001b[0m\n\u001b[1;32m     27\u001b[0m                 \u001b[0mind\u001b[0m\u001b[1;33m=\u001b[0m\u001b[0mb_words\u001b[0m\u001b[1;33m.\u001b[0m\u001b[0mindex\u001b[0m\u001b[1;33m(\u001b[0m\u001b[0mword\u001b[0m\u001b[1;33m)\u001b[0m\u001b[1;33m\u001b[0m\u001b[0m\n\u001b[0;32m---> 28\u001b[0;31m                 \u001b[0mfeat\u001b[0m\u001b[1;33m[\u001b[0m\u001b[0mind\u001b[0m\u001b[1;33m]\u001b[0m\u001b[1;33m=\u001b[0m\u001b[0mfeat\u001b[0m\u001b[1;33m[\u001b[0m\u001b[0mind\u001b[0m\u001b[1;33m]\u001b[0m\u001b[1;33m+\u001b[0m\u001b[1;36m1\u001b[0m\u001b[1;33m\u001b[0m\u001b[0m\n\u001b[0m\u001b[1;32m     29\u001b[0m \u001b[1;33m\u001b[0m\u001b[0m\n\u001b[1;32m     30\u001b[0m         \u001b[1;31m#mag=sum(feat)#Normalization\u001b[0m\u001b[1;33m\u001b[0m\u001b[1;33m\u001b[0m\u001b[0m\n",
      "\u001b[0;31mKeyboardInterrupt\u001b[0m: "
     ]
    }
   ],
   "source": [
    "#this step is also part of the feature extraction. we know wich words are features, now we get the features of each song in the dataset\n",
    "\n",
    "start_time = time.time()\n",
    "\n",
    "feat_trix=[]\n",
    "label_trix=[]\n",
    "\n",
    "with open('lyr_gen_all_sh.csv') as csvfile:\n",
    "    reader = csv.DictReader(csvfile)\n",
    "    \n",
    "    row_count = sum(1 for row in reader) \n",
    "    csvfile.seek(0)\n",
    "    \n",
    "    bar=Load_bar(row_count)\n",
    "    for i in range(row_count*100/100): #Extracting features from all dataset\n",
    "        bar.current(i)\n",
    "        feat=np.zeros(len(b_words)) #features\n",
    "        \n",
    "        if i==0:\n",
    "            row=next(reader) # to avoid taking the dictionary header as a row\n",
    "        \n",
    "        row=next(reader)\n",
    "        words=re.compile('\\w+').findall(row['lyrics'])\n",
    "        for word in words:\n",
    "            word=word.lower()\n",
    "            if word in b_words:\n",
    "                ind=b_words.index(word)\n",
    "                feat[ind]=feat[ind]+1\n",
    "        \n",
    "        #mag=sum(feat)#Normalization\n",
    "        #if mag==0:\n",
    "        #    feat_norm=map(float,feat)\n",
    "        #else:\n",
    "        #    feat_norm=[float(x)/mag for x in feat]\n",
    "            \n",
    "        feat_trix.append(feat)\n",
    "        label_trix.append(row['genre'])\n",
    "\n",
    "print(\"--- %s seconds ---\" % (time.time() - start_time))"
   ]
  },
  {
   "cell_type": "code",
   "execution_count": null,
   "metadata": {
    "collapsed": false
   },
   "outputs": [],
   "source": [
    "#saving training matrixes\n",
    "\n",
    "with open('feat_matrix.csv','w+') as csvfile:\n",
    "    writer = csv.writer(csvfile)#El formato del csv tiene un espacio de por medio\n",
    "    for row in feat_trix:\n",
    "        writer.writerow(row)\n",
    "print 'end'\n",
    "\n",
    "with open('label_matrix.csv','w+') as csvfile:\n",
    "    writer = csv.writer(csvfile)#El formato del csv tiene un espacio de por medio\n",
    "    writer.writerow(label_trix)\n",
    "print 'end'"
   ]
  },
  {
   "cell_type": "code",
   "execution_count": 14,
   "metadata": {
    "collapsed": false
   },
   "outputs": [
    {
     "name": "stdout",
     "output_type": "stream",
     "text": [
      "end\n"
     ]
    }
   ],
   "source": [
    "#loading training matrixes\n",
    "\n",
    "training_per=70 #here we select the training percentage\n",
    "\n",
    "feat_trix=[]\n",
    "label_trix=[]\n",
    "\n",
    "with open('feat_matrix.csv') as csvfile:\n",
    "    reader = csv.reader(csvfile)\n",
    "    \n",
    "    row_count = sum(1 for row in reader) \n",
    "    csvfile.seek(0)\n",
    "    \n",
    "    for i in range(row_count*training_per/100):\n",
    "        feat_trix.append(map(float,next(reader)))\n",
    "        \n",
    "with open('label_matrix.csv') as csvfile:\n",
    "    reader = csv.reader(csvfile)\n",
    "    for row in reader:\n",
    "        label_trix=row[:row_count*training_per/100] \n",
    "        \n",
    "print 'end'"
   ]
  },
  {
   "cell_type": "code",
   "execution_count": 15,
   "metadata": {
    "collapsed": false
   },
   "outputs": [
    {
     "name": "stdout",
     "output_type": "stream",
     "text": [
      "--- 918.244999886 seconds ---\n"
     ]
    }
   ],
   "source": [
    "#training the model\n",
    "\n",
    "start_time = time.time()\n",
    "\n",
    "clf = svm.SVC(decision_function_shape = \"ovr\") # Ovo= one vs one / ovr : one vs rest\n",
    "clf.fit(feat_trix,label_trix)\n",
    "\n",
    "#saving some memory after training:\n",
    "\n",
    "del feat_trix\n",
    "del label_trix\n",
    "\n",
    "print(\"--- %s seconds ---\" % (time.time() - start_time))"
   ]
  },
  {
   "cell_type": "code",
   "execution_count": 16,
   "metadata": {
    "collapsed": false
   },
   "outputs": [
    {
     "name": "stdout",
     "output_type": "stream",
     "text": [
      "end\n"
     ]
    }
   ],
   "source": [
    "#loading test matrixes\n",
    "\n",
    "test_per=20 # we select the test percentage\n",
    "\n",
    "test_per=100-test_per\n",
    "feat_test_trix=[]\n",
    "label_test_trix=[]\n",
    "\n",
    "with open('feat_matrix.csv') as csvfile: \n",
    "    reader = csv.reader(csvfile)\n",
    "    \n",
    "    row_count = sum(1 for row in reader)\n",
    "    csvfile.seek(0)\n",
    "    \n",
    "    for i in range(row_count):\n",
    "        if i >= row_count*test_per/100:\n",
    "            feat_test_trix.append(map(float,next(reader)))\n",
    "        else:\n",
    "            trash=next(reader)\n",
    "        \n",
    "with open('label_matrix.csv') as csvfile:\n",
    "    reader = csv.reader(csvfile)\n",
    "    for row in reader:\n",
    "        label_test_trix=row[row_count*test_per/100:] \n",
    "        \n",
    "print 'end'"
   ]
  },
  {
   "cell_type": "code",
   "execution_count": 17,
   "metadata": {
    "collapsed": false
   },
   "outputs": [
    {
     "name": "stdout",
     "output_type": "stream",
     "text": [
      "--- 207.690999985 seconds ---\n"
     ]
    }
   ],
   "source": [
    "#predicting test data\n",
    "\n",
    "start_time = time.time()\n",
    "\n",
    "label_predic_trix=clf.predict(feat_test_trix)\n",
    "\n",
    "print(\"--- %s seconds ---\" % (time.time() - start_time))"
   ]
  },
  {
   "cell_type": "code",
   "execution_count": 18,
   "metadata": {
    "collapsed": false
   },
   "outputs": [
    {
     "data": {
      "text/plain": [
       "0.53963773229828271"
      ]
     },
     "execution_count": 18,
     "metadata": {},
     "output_type": "execute_result"
    }
   ],
   "source": [
    "#accuracy score:\n",
    "\n",
    "accuracy_score(label_test_trix,label_predic_trix)"
   ]
  },
  {
   "cell_type": "code",
   "execution_count": 19,
   "metadata": {
    "collapsed": false
   },
   "outputs": [
    {
     "data": {
      "text/plain": [
       "array([[ 758,   20,  283,  108,  102,  158],\n",
       "       [  34, 1074,   23,   93,  108,   45],\n",
       "       [ 219,   38,  703,  151,  168,  128],\n",
       "       [  43,   43,   38, 1078,   71,  129],\n",
       "       [ 194,  139,  183,  155,  549,  232],\n",
       "       [ 231,   49,  166,  373,  190,  426]])"
      ]
     },
     "execution_count": 19,
     "metadata": {},
     "output_type": "execute_result"
    }
   ],
   "source": [
    "#Confucion matrix (number of songs)\n",
    "\n",
    "confusion_matrix(label_test_trix,label_predic_trix)"
   ]
  },
  {
   "cell_type": "code",
   "execution_count": 20,
   "metadata": {
    "collapsed": false
   },
   "outputs": [
    {
     "data": {
      "text/html": [
       "<div>\n",
       "<table border=\"1\" class=\"dataframe\">\n",
       "  <thead>\n",
       "    <tr style=\"text-align: right;\">\n",
       "      <th>Predicted</th>\n",
       "      <th>Country</th>\n",
       "      <th>Hip-Hop</th>\n",
       "      <th>Jazz</th>\n",
       "      <th>Metal</th>\n",
       "      <th>Pop</th>\n",
       "      <th>Rock</th>\n",
       "    </tr>\n",
       "    <tr>\n",
       "      <th>Actual</th>\n",
       "      <th></th>\n",
       "      <th></th>\n",
       "      <th></th>\n",
       "      <th></th>\n",
       "      <th></th>\n",
       "      <th></th>\n",
       "    </tr>\n",
       "  </thead>\n",
       "  <tbody>\n",
       "    <tr>\n",
       "      <th>Country</th>\n",
       "      <td>758</td>\n",
       "      <td>20</td>\n",
       "      <td>283</td>\n",
       "      <td>108</td>\n",
       "      <td>102</td>\n",
       "      <td>158</td>\n",
       "    </tr>\n",
       "    <tr>\n",
       "      <th>Hip-Hop</th>\n",
       "      <td>34</td>\n",
       "      <td>1074</td>\n",
       "      <td>23</td>\n",
       "      <td>93</td>\n",
       "      <td>108</td>\n",
       "      <td>45</td>\n",
       "    </tr>\n",
       "    <tr>\n",
       "      <th>Jazz</th>\n",
       "      <td>219</td>\n",
       "      <td>38</td>\n",
       "      <td>703</td>\n",
       "      <td>151</td>\n",
       "      <td>168</td>\n",
       "      <td>128</td>\n",
       "    </tr>\n",
       "    <tr>\n",
       "      <th>Metal</th>\n",
       "      <td>43</td>\n",
       "      <td>43</td>\n",
       "      <td>38</td>\n",
       "      <td>1078</td>\n",
       "      <td>71</td>\n",
       "      <td>129</td>\n",
       "    </tr>\n",
       "    <tr>\n",
       "      <th>Pop</th>\n",
       "      <td>194</td>\n",
       "      <td>139</td>\n",
       "      <td>183</td>\n",
       "      <td>155</td>\n",
       "      <td>549</td>\n",
       "      <td>232</td>\n",
       "    </tr>\n",
       "    <tr>\n",
       "      <th>Rock</th>\n",
       "      <td>231</td>\n",
       "      <td>49</td>\n",
       "      <td>166</td>\n",
       "      <td>373</td>\n",
       "      <td>190</td>\n",
       "      <td>426</td>\n",
       "    </tr>\n",
       "  </tbody>\n",
       "</table>\n",
       "</div>"
      ],
      "text/plain": [
       "Predicted  Country  Hip-Hop  Jazz  Metal  Pop  Rock\n",
       "Actual                                             \n",
       "Country        758       20   283    108  102   158\n",
       "Hip-Hop         34     1074    23     93  108    45\n",
       "Jazz           219       38   703    151  168   128\n",
       "Metal           43       43    38   1078   71   129\n",
       "Pop            194      139   183    155  549   232\n",
       "Rock           231       49   166    373  190   426"
      ]
     },
     "execution_count": 20,
     "metadata": {},
     "output_type": "execute_result"
    }
   ],
   "source": [
    "#Confucion matrix (number of songs)\n",
    "\n",
    "pd.crosstab(pd.Series(label_test_trix),pd.Series(label_predic_trix), rownames=['Actual'], colnames=['Predicted'])"
   ]
  },
  {
   "cell_type": "code",
   "execution_count": 21,
   "metadata": {
    "collapsed": false
   },
   "outputs": [
    {
     "data": {
      "text/html": [
       "<div>\n",
       "<table border=\"1\" class=\"dataframe\">\n",
       "  <thead>\n",
       "    <tr style=\"text-align: right;\">\n",
       "      <th>Predicted</th>\n",
       "      <th>Country</th>\n",
       "      <th>Hip-Hop</th>\n",
       "      <th>Jazz</th>\n",
       "      <th>Metal</th>\n",
       "      <th>Pop</th>\n",
       "      <th>Rock</th>\n",
       "    </tr>\n",
       "    <tr>\n",
       "      <th>Actual</th>\n",
       "      <th></th>\n",
       "      <th></th>\n",
       "      <th></th>\n",
       "      <th></th>\n",
       "      <th></th>\n",
       "      <th></th>\n",
       "    </tr>\n",
       "  </thead>\n",
       "  <tbody>\n",
       "    <tr>\n",
       "      <th>Country</th>\n",
       "      <td>51.250845</td>\n",
       "      <td>1.467351</td>\n",
       "      <td>20.272206</td>\n",
       "      <td>5.515832</td>\n",
       "      <td>8.585859</td>\n",
       "      <td>14.132379</td>\n",
       "    </tr>\n",
       "    <tr>\n",
       "      <th>Hip-Hop</th>\n",
       "      <td>2.298851</td>\n",
       "      <td>78.796772</td>\n",
       "      <td>1.647564</td>\n",
       "      <td>4.749745</td>\n",
       "      <td>9.090909</td>\n",
       "      <td>4.025045</td>\n",
       "    </tr>\n",
       "    <tr>\n",
       "      <th>Jazz</th>\n",
       "      <td>14.807302</td>\n",
       "      <td>2.787968</td>\n",
       "      <td>50.358166</td>\n",
       "      <td>7.711951</td>\n",
       "      <td>14.141414</td>\n",
       "      <td>11.449016</td>\n",
       "    </tr>\n",
       "    <tr>\n",
       "      <th>Metal</th>\n",
       "      <td>2.907370</td>\n",
       "      <td>3.154806</td>\n",
       "      <td>2.722063</td>\n",
       "      <td>55.056180</td>\n",
       "      <td>5.976431</td>\n",
       "      <td>11.538462</td>\n",
       "    </tr>\n",
       "    <tr>\n",
       "      <th>Pop</th>\n",
       "      <td>13.116971</td>\n",
       "      <td>10.198092</td>\n",
       "      <td>13.108883</td>\n",
       "      <td>7.916241</td>\n",
       "      <td>46.212121</td>\n",
       "      <td>20.751342</td>\n",
       "    </tr>\n",
       "    <tr>\n",
       "      <th>Rock</th>\n",
       "      <td>15.618661</td>\n",
       "      <td>3.595011</td>\n",
       "      <td>11.891117</td>\n",
       "      <td>19.050051</td>\n",
       "      <td>15.993266</td>\n",
       "      <td>38.103757</td>\n",
       "    </tr>\n",
       "  </tbody>\n",
       "</table>\n",
       "</div>"
      ],
      "text/plain": [
       "Predicted    Country    Hip-Hop       Jazz      Metal        Pop       Rock\n",
       "Actual                                                                     \n",
       "Country    51.250845   1.467351  20.272206   5.515832   8.585859  14.132379\n",
       "Hip-Hop     2.298851  78.796772   1.647564   4.749745   9.090909   4.025045\n",
       "Jazz       14.807302   2.787968  50.358166   7.711951  14.141414  11.449016\n",
       "Metal       2.907370   3.154806   2.722063  55.056180   5.976431  11.538462\n",
       "Pop        13.116971  10.198092  13.108883   7.916241  46.212121  20.751342\n",
       "Rock       15.618661   3.595011  11.891117  19.050051  15.993266  38.103757"
      ]
     },
     "execution_count": 21,
     "metadata": {},
     "output_type": "execute_result"
    }
   ],
   "source": [
    "#Confucion matrix (percentage)\n",
    "\n",
    "pd.crosstab(pd.Series(label_test_trix),pd.Series(label_predic_trix), rownames=['Actual'], colnames=['Predicted']).apply(lambda r: 100.0 * r/r.sum()) # Columns are true, "
   ]
  },
  {
   "cell_type": "code",
   "execution_count": 22,
   "metadata": {
    "collapsed": false
   },
   "outputs": [
    {
     "data": {
      "text/plain": [
       "SVC(C=1.0, cache_size=200, class_weight=None, coef0=0.0,\n",
       "  decision_function_shape='ovr', degree=3, gamma='auto', kernel='rbf',\n",
       "  max_iter=-1, probability=False, random_state=None, shrinking=True,\n",
       "  tol=0.001, verbose=False)"
      ]
     },
     "execution_count": 22,
     "metadata": {},
     "output_type": "execute_result"
    }
   ],
   "source": [
    "clf"
   ]
  },
  {
   "cell_type": "code",
   "execution_count": null,
   "metadata": {
    "collapsed": true
   },
   "outputs": [],
   "source": []
  }
 ],
 "metadata": {
  "kernelspec": {
   "display_name": "Python 2",
   "language": "python",
   "name": "python2"
  },
  "language_info": {
   "codemirror_mode": {
    "name": "ipython",
    "version": 2
   },
   "file_extension": ".py",
   "mimetype": "text/x-python",
   "name": "python",
   "nbconvert_exporter": "python",
   "pygments_lexer": "ipython2",
   "version": "2.7.11"
  }
 },
 "nbformat": 4,
 "nbformat_minor": 2
}
