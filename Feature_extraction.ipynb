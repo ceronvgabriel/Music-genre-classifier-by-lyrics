{
 "cells": [
  {
   "cell_type": "code",
   "execution_count": 2,
   "metadata": {
    "collapsed": false
   },
   "outputs": [],
   "source": [
    "#gaboceron10@gmail.com (2017)\n",
    "\n",
    "import csv\n",
    "import os\n",
    "import random\n",
    "import re\n",
    "import numpy as np\n",
    "import time\n",
    "import sklearn\n",
    "import matplotlib.pyplot as plt\n",
    "\n",
    "#csv fieldnames\n",
    "fieldnames=['index','song','year','artist','genre','lyrics']\n",
    "#all available genres\n",
    "all_genres=['Pop','Hip-Hop','Not Available','Other','Rock','Metal','Country','Jazz','Electronic','Folk','R&B','Indie']\n",
    "#selected genres to classify\n",
    "genres=['Pop','Hip-Hop','Rock','Metal','Country','Jazz']"
   ]
  },
  {
   "cell_type": "code",
   "execution_count": 2,
   "metadata": {
    "collapsed": false
   },
   "outputs": [
    {
     "name": "stdout",
     "output_type": "stream",
     "text": [
      "For Pop\n",
      "End Pop\n",
      "For Hip-Hop\n",
      "End Hip-Hop\n",
      "For Rock\n",
      "End Rock\n",
      "For Metal\n",
      "End Metal\n",
      "For Country\n",
      "End Country\n",
      "For Jazz\n",
      "End Jazz\n",
      "--- 934.404999971 seconds ---\n"
     ]
    }
   ],
   "source": [
    "#Getting the words of the training set (80%)\n",
    "\n",
    "start_time = time.time()\n",
    "\n",
    "w_list=[]\n",
    "w_count=[]\n",
    "\n",
    "for g in genres:\n",
    "    print 'For '+g\n",
    "    with open('lyr_gen_'+g+'_sh.csv') as load_file:\n",
    "        reader = csv.DictReader(load_file)\n",
    "        row_count = sum(1 for row in reader)\n",
    "        load_file.seek(0)\n",
    "        for i in range(row_count*80/100): #Selecting only 80% of dataset\n",
    "            row=next(reader)\n",
    "            words=re.compile('\\w+').findall(row['lyrics'])\n",
    "            for word in words:\n",
    "                word=word.lower()\n",
    "                if word in w_list:\n",
    "                    plus=w_list.index(word)\n",
    "                    w_count[plus]=w_count[plus]+1\n",
    "                else:\n",
    "                    w_list.append(word)\n",
    "                    w_count.append(1)\n",
    "    print 'End '+g\n",
    "print(\"--- %s seconds ---\" % (time.time() - start_time))"
   ]
  },
  {
   "cell_type": "code",
   "execution_count": 3,
   "metadata": {
    "collapsed": false
   },
   "outputs": [],
   "source": [
    "#Saving the word list\n",
    "with open('all_words.csv','w+') as csvfile:\n",
    "    writer = csv.writer(csvfile)#El formato del csv tiene un espacio de por medio\n",
    "    writer.writerow(w_list)\n",
    "    writer.writerow(w_count)"
   ]
  },
  {
   "cell_type": "code",
   "execution_count": 4,
   "metadata": {
    "collapsed": false
   },
   "outputs": [
    {
     "data": {
      "image/png": "[encoded data removed]",
      "text/plain": [
       "<matplotlib.figure.Figure at 0x4c46870>"
      ]
     },
     "metadata": {},
     "output_type": "display_data"
    }
   ],
   "source": [
    "#creating an histogram of the word counting, just to get an idea of how are they spread\n",
    "x,y=np.histogram(w_count,len(w_count)/10)\n",
    "plt.plot(x,y[:-1])\n",
    "plt.show()"
   ]
  },
  {
   "cell_type": "code",
   "execution_count": 3,
   "metadata": {
    "collapsed": false
   },
   "outputs": [
    {
     "name": "stdout",
     "output_type": "stream",
     "text": [
      "Array length:  13670\n"
     ]
    }
   ],
   "source": [
    "# Loading the word list (this is done in order to run the program from this step if needed)\n",
    "\n",
    "nw_count=[]\n",
    "nw_list=[]\n",
    "\n",
    "with open('all_words.csv') as csvfile:\n",
    "    reader = csv.reader(csvfile)\n",
    "    \n",
    "    w_list=next(reader)\n",
    "    w_count=map(int,next(reader)) \n",
    "    \n",
    "    for i in range(len(w_count)):\n",
    "        if w_count[i] in range(20):\n",
    "            pass\n",
    "        else:\n",
    "            nw_count.append(w_count[i])\n",
    "            nw_list.append(w_list[i])\n",
    "print 'Array length: ',len(nw_count)"
   ]
  },
  {
   "cell_type": "code",
   "execution_count": 4,
   "metadata": {
    "collapsed": false
   },
   "outputs": [
    {
     "data": {
      "text/plain": [
       "125251"
      ]
     },
     "execution_count": 4,
     "metadata": {},
     "output_type": "execute_result"
    }
   ],
   "source": [
    "len(w_list)"
   ]
  },
  {
   "cell_type": "code",
   "execution_count": 6,
   "metadata": {
    "collapsed": false
   },
   "outputs": [],
   "source": [
    "#loading the stop words list\n",
    "with open('stop_words.csv') as csvfile:\n",
    "    reader = csv.reader(csvfile)\n",
    "    for row in reader:\n",
    "        stop_words=row #there is just one row, with 119 words"
   ]
  },
  {
   "cell_type": "code",
   "execution_count": 7,
   "metadata": {
    "collapsed": false
   },
   "outputs": [
    {
     "name": "stdout",
     "output_type": "stream",
     "text": [
      "--- 0.0239999294281 seconds ---\n"
     ]
    }
   ],
   "source": [
    "# In this step we sort the words\n",
    "\n",
    "start_time = time.time()\n",
    "\n",
    "arr = np.array(nw_count)\n",
    "ind=arr.argsort()[-1000:][::-1] # sorting the most used words\n",
    "b3_words=[]\n",
    "b3_count=[]\n",
    "\n",
    "b_words=[]\n",
    "b_count=[]\n",
    "\n",
    "for i in ind:\n",
    "    b3_words.append(nw_list[i])\n",
    "    b3_count.append(nw_count[i])\n",
    "    \n",
    "for j in range(len(b3_words)):\n",
    "    if b3_words[j] in stop_words: # stop words are ignored\n",
    "        pass\n",
    "    else:\n",
    "        b_words.append(b3_words[j])\n",
    "        b_count.append(b3_count[j])\n",
    "\n",
    "b1_words=b_words[:800] #selecting the number of words (features)\n",
    "b1_count=b_count[:800]\n",
    "\n",
    "print(\"--- %s seconds ---\" % (time.time() - start_time))"
   ]
  },
  {
   "cell_type": "code",
   "execution_count": 8,
   "metadata": {
    "collapsed": false
   },
   "outputs": [
    {
     "name": "stdout",
     "output_type": "stream",
     "text": [
      "end\n"
     ]
    }
   ],
   "source": [
    "# saveing the features in a file\n",
    "with open('best_words.csv','w+') as csvfile:\n",
    "    writer = csv.writer(csvfile)\n",
    "    writer.writerow(b1_words)\n",
    "print 'end'"
   ]
  },
  {
   "cell_type": "code",
   "execution_count": null,
   "metadata": {
    "collapsed": true
   },
   "outputs": [],
   "source": []
  },
  {
   "cell_type": "code",
   "execution_count": null,
   "metadata": {
    "collapsed": true
   },
   "outputs": [],
   "source": []
  },
  {
   "cell_type": "code",
   "execution_count": null,
   "metadata": {
    "collapsed": true
   },
   "outputs": [],
   "source": []
  }
 ],
 "metadata": {
  "kernelspec": {
   "display_name": "Python 2",
   "language": "python",
   "name": "python2"
  },
  "language_info": {
   "codemirror_mode": {
    "name": "ipython",
    "version": 2
   },
   "file_extension": ".py",
   "mimetype": "text/x-python",
   "name": "python",
   "nbconvert_exporter": "python",
   "pygments_lexer": "ipython2",
   "version": "2.7.11"
  }
 },
 "nbformat": 4,
 "nbformat_minor": 2
}
